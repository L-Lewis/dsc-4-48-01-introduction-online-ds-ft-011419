{
 "cells": [
  {
   "cell_type": "markdown",
   "metadata": {},
   "source": [
    "# Introduction"
   ]
  },
  {
   "cell_type": "markdown",
   "metadata": {},
   "source": [
    "## Introduction\n",
    "\n",
    "This lesson summarizes the topics we'll be covering in section 48 and why they'll be important to you as a data scientist."
   ]
  },
  {
   "cell_type": "markdown",
   "metadata": {},
   "source": [
    "## Objectives\n",
    "You will be able to:\n",
    "* Understand and explain what is covered in this section\n",
    "* Understand and explain why the section will help you to become a data scientist"
   ]
  },
  {
   "cell_type": "markdown",
   "metadata": {},
   "source": [
    "## Deep Generative Models\n",
    "\n",
    "You have reached the very last section of the program! In this section, you'll learn about generative models and how to implement them in Keras.\n",
    "\n",
    "### Deep Generative Models\n",
    "\n",
    "Generative models use a large amount of data in some domain of interest, and train a model to generate new data which may appear as it came from the same distribution as the training data. Generative models have several applications in the areas of image processing and text analysis, and also have the property that they have the ability to automatically learn the natural features of a dataset. You'll get a more in-depth overview on the difference between discriminative and generative models, and get a short overview on the two main types of autoencoders in this section: Variational Autoencoders and Generative Adversarial Networks.\n",
    "\n",
    "### Variational Autoencoders\n",
    "\n",
    "Next, you'll learn about Variational Autoencoders (VAEs). VAEs are generative model as they estimate the Probability Density Function (PDF) of the training data. Using VAEs are known to generate a random, previously unseen output, that looks similar to the training data. You'll learn how variational autoencoders overcome some of the isssues of \"simple\" autoencoders, and we'll walk you through some in-depth examples of how variational autoencoders work. You'll also learn how to create a Variational Autoencoder in Keras.\n",
    "\n",
    "\n",
    "### Generative Adversarial Models \n",
    "The very last new concept you'll learn about in this program, are Generative Adversarial Models, or GANs. well-known applications of GANs are: images where you want too look what a person will look like in 20 years and automatically generate images based on descriptions. You'll learn about the specifics of GANs and you'll learn how to implement GANs in Keras!"
   ]
  },
  {
   "cell_type": "markdown",
   "metadata": {},
   "source": [
    "## Summary\n",
    "\n",
    "Congratulations, you've made it to the very last section of the curriculum! "
   ]
  }
 ],
 "metadata": {
  "kernelspec": {
   "display_name": "Python 3",
   "language": "python",
   "name": "python3"
  },
  "language_info": {
   "codemirror_mode": {
    "name": "ipython",
    "version": 3
   },
   "file_extension": ".py",
   "mimetype": "text/x-python",
   "name": "python",
   "nbconvert_exporter": "python",
   "pygments_lexer": "ipython3",
   "version": "3.6.4"
  }
 },
 "nbformat": 4,
 "nbformat_minor": 2
}
